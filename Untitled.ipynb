{
 "cells": [
  {
   "cell_type": "code",
   "execution_count": 4,
   "id": "298a9eb2",
   "metadata": {},
   "outputs": [
    {
     "data": {
      "text/plain": [
       "dict_keys(['one'])"
      ]
     },
     "execution_count": 4,
     "metadata": {},
     "output_type": "execute_result"
    }
   ],
   "source": [
    "e_dict = {}\n",
    "e_dict['one'] = '하나'\n",
    "e_dict.keys()"
   ]
  },
  {
   "cell_type": "code",
   "execution_count": 13,
   "id": "833f50f9",
   "metadata": {},
   "outputs": [
    {
     "name": "stdout",
     "output_type": "stream",
     "text": [
      "평균값 :  5.6923076923076925\n",
      "중앙값 :  6\n"
     ]
    }
   ],
   "source": [
    "data = [1,7,3,8,8,13,10,3,5,2,7,1,6]\n",
    "\n",
    "length = len(data)\n",
    "average = sum(data)/length\n",
    "\n",
    "data.sort()\n",
    "middle = length//2\n",
    "if length%2 == 1:\n",
    "    median = data[middle]\n",
    "else:\n",
    "    median=(data[middle-1]+data[middle])/2\n",
    "    \n",
    "print(\"평균값 : \", average)\n",
    "print(\"중앙값 : \", median)"
   ]
  },
  {
   "cell_type": "code",
   "execution_count": 2,
   "id": "9271c660",
   "metadata": {},
   "outputs": [],
   "source": [
    "import turtle\n",
    "t = turtle.Turtle()\n",
    "t.shape(\"turtle\")\n",
    "\n",
    "def draw_octa():\n",
    "    for i in range(8):\n",
    "        t.forward(100)\n",
    "        t.right(360/8)"
   ]
  },
  {
   "cell_type": "code",
   "execution_count": 1,
   "id": "91fc0602",
   "metadata": {},
   "outputs": [
    {
     "name": "stdout",
     "output_type": "stream",
     "text": [
      "2 4 6 8 10 "
     ]
    }
   ],
   "source": [
    "for i in range(1, 11):\n",
    "  if i % 2 == 0:\n",
    "    print(i, end=\" \")"
   ]
  },
  {
   "cell_type": "code",
   "execution_count": null,
   "id": "7f74d259",
   "metadata": {},
   "outputs": [],
   "source": [
    "\n",
    "temp += float(data[2])\n",
    "precip += float(data[3])    "
   ]
  }
 ],
 "metadata": {
  "kernelspec": {
   "display_name": "Python 3 (ipykernel)",
   "language": "python",
   "name": "python3"
  },
  "language_info": {
   "codemirror_mode": {
    "name": "ipython",
    "version": 3
   },
   "file_extension": ".py",
   "mimetype": "text/x-python",
   "name": "python",
   "nbconvert_exporter": "python",
   "pygments_lexer": "ipython3",
   "version": "3.10.9"
  }
 },
 "nbformat": 4,
 "nbformat_minor": 5
}
