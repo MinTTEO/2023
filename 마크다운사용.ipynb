{
 "cells": [
  {
   "cell_type": "code",
   "execution_count": 4,
   "id": "586eacb9",
   "metadata": {},
   "outputs": [
    {
     "data": {
      "text/plain": [
       "5"
      ]
     },
     "execution_count": 4,
     "metadata": {},
     "output_type": "execute_result"
    }
   ],
   "source": [
    "#CTRL + ENTER = 실행\n",
    "2+3"
   ]
  },
  {
   "cell_type": "markdown",
   "id": "d132eb75",
   "metadata": {},
   "source": [
    "# Hello 주피터 노트북\n",
    "## Hello 주피터 노트북\n",
    "### Hello 주피터 노트북\n",
    "부산동의대 호서대"
   ]
  },
  {
   "cell_type": "markdown",
   "id": "ccd00725",
   "metadata": {},
   "source": [
    "1. 첫번째\n",
    "2. 두번째 \n",
    "3. 세번째\n",
    "- 첫번째\n",
    "- 두번째\n",
    "- 세번째\n",
    "\n",
    "+ 첫번째\n",
    "+ 두번째\n",
    "+ 세번째\n",
    "\n",
    "\n",
    "*기울어진 글씨*\n",
    "**굵은 글씨**\n",
    "~~줄그어진 글씨~~"
   ]
  },
  {
   "attachments": {},
   "cell_type": "markdown",
   "id": "3c1ee069",
   "metadata": {},
   "source": []
  },
  {
   "cell_type": "code",
   "execution_count": null,
   "id": "699f7162",
   "metadata": {},
   "outputs": [],
   "source": []
  }
 ],
 "metadata": {
  "kernelspec": {
   "display_name": "Python 3 (ipykernel)",
   "language": "python",
   "name": "python3"
  },
  "language_info": {
   "codemirror_mode": {
    "name": "ipython",
    "version": 3
   },
   "file_extension": ".py",
   "mimetype": "text/x-python",
   "name": "python",
   "nbconvert_exporter": "python",
   "pygments_lexer": "ipython3",
   "version": "3.10.9"
  }
 },
 "nbformat": 4,
 "nbformat_minor": 5
}
